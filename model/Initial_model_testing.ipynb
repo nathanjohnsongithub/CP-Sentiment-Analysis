{
 "cells": [
  {
   "cell_type": "code",
   "execution_count": 5,
   "metadata": {},
   "outputs": [
    {
     "name": "stdout",
     "output_type": "stream",
     "text": [
      "Page scraped. URL: https://www.yelp.com/biz/buffalo-joes-evanston\n",
      "Page scraped. URL: https://www.yelp.com/biz/buffalo-joes-evanston?start=10\n",
      "Page scraped. URL: https://www.yelp.com/biz/buffalo-joes-evanston?start=20\n",
      "Page scraped. URL: https://www.yelp.com/biz/buffalo-joes-evanston?start=30\n",
      "Page scraped. URL: https://www.yelp.com/biz/buffalo-joes-evanston?start=40\n"
     ]
    }
   ],
   "source": [
    "import sys\n",
    "sys.path.append('../scraping')\n",
    "\n",
    "import scraping\n",
    "\n",
    "(reviews, ratings) = scraping.get_yelp_reviews('https://www.yelp.com/biz/buffalo-joes-evanston', True)"
   ]
  },
  {
   "cell_type": "code",
   "execution_count": 11,
   "metadata": {},
   "outputs": [
    {
     "name": "stdout",
     "output_type": "stream",
     "text": [
      "i is 0\n",
      "review is My favorite wings around.  I found this place in college and I've been going here ever since.  Whenever I'm in the chicagoland area I make sure to hit this place up.  There is nothing magical about the restaurant except for the wings.  The restaurant itself is just a walk in storefront.  Food is walk up to order.  A few places to sit in the back.  Service is simple.. not much.Wings are awesome.  Several different spice levels.  Full of vinegar goodness.  I love these wings.Give this place a try if you love wings!\n",
      "rating is 4.5 star rating\n",
      "i is 1\n",
      "review is I thought it was pretty good. It's been awhile since I've been to any Buffalo Joe's and I don't think I've been to this one. This is a low down greasy wing place which isn't a criticism. It's true homemade wings and sauce. While o think it's a little on the expensive side, you do get a pretty generous order of wings. I thought their spicy was going to be hotter. I guess I need to try the suicide flavor. The biggest surprise were the waffle fries. Nice and crunchy with some seasoning (pepper?). Complemented the wings and was awesome dipped in said sauce. While people have complained about the service, they treated me quite well, especially since I didn't know what I was doing. The woman who took my order was so helpful! Sometimes you just want wings. This is the place for some down and dirty wings made with love. I'll probably be back, but you gotta bring cash!\n",
      "rating is 3.5 star rating\n",
      "i is 2\n",
      "review is I used to love Buffjoes in my teens and 20's, I think it was maybe 10 years or more since I last had it. And I gotta say, it has not changed at all. The suicide sauce is still FUEGO. The suicide sauce has my heart. It's not that spicy, but has all the flava. And cheddar chips are a necessity. The inside has not changed in the last 20 years. You order at one end of the counter, then wait for your food. Once your food's ready, pay at the register. Grab an oatmeal chocochip cookie if you can! Parking in the area is usually not too difficult. Oh and bring cash! They're cash only, but they do have an atm inside.\n",
      "rating is 5 star rating\n",
      "i is 3\n",
      "review is A friend of mind introduced me Buffalo Joes! I have to say I am highly happy that he did. Let me get into it!Food: Hands down the best chicken wings! The flavor and the freshness was great! Each time I have come I always feel satisfied. Service: The speed of how quickly the food comes out and how the cashier is very chatty and how they walk you thought the menu is great. Atmosphere: Or ambiance like I call it, the decor really matched the shop vibe! I really like walking in as it makes me feel I am going back in time. Overall, I would visit Buffalo Joes any time I am in the area. I love the food and how friendly everyone is.\n",
      "rating is 4 star rating\n",
      "i is 4\n",
      "review is I just came back to buff joes after a several year hiatus. Wings: top notch. Excellent. Worth the long wait time. Freshly fried, tender, juicy and super flavorful. Fries: waffle fries. Can get with or without cheese. Cheese sauce is super thick - maybe not in a good way lol.Service: quick, not especially friendly, though the food more than makes up for it! Cash only. Long wait times. Ambience: worn out interior. Tables with benches. Avoid sitting too close to the restrooms as the cleaning solution scent is off putting.\n",
      "rating is 4 star rating\n",
      "i is 5\n",
      "review is The best wings in the entire world. Been coming here since around 2004. Never fails. Best sauce. Love the small crispy wings. Never change buff joes.\n",
      "rating is 5 star rating\n",
      "i is 6\n",
      "review is Really not my go to for wings ordered from her one time for lunch at work and I was disappointed small ass wings\n",
      "rating is 4 star rating\n",
      "i is 7\n",
      "review is Haven't been here in over a year. Street parking only. Went around 7pm Wednesday they had a few spots right in front. It's cash only they have a atm inside. The place could use a remodel. The men's bathroom was out of order with a strong sewer smell coming out of it. Good and quick service. We ordered buffalo chips and double order spicy (wings). Sauce taste great as usual but the wings were on the small side compared to last time. The Buffalo sauce just taste so good. I'll be back!\n",
      "rating is 5 star rating\n",
      "i is 8\n",
      "review is I was ridiculously determined and excited to try this place. Literally burned half a day on my short vacay to come here. I didn't order ahead and the cashier almost tried to dissuade me from ordering. I literally flew across the country to come here so I was staying. The wait was less than they stated so I was glad for that! But the food. Wow. Worst wings I have ever had. Very average cook, but the sauce. Borderline GROSS. It was gloopy and smelled weird. \"Suicide\" sauce was the blandest, mildest sauce ever. I've had THOUSANDS of wings all over the US and these were horrible. So annoyed I wasted so much time going there. For $26 I tried to eat as much as I could suffer through and then just threw it all away. Felt gross all the way back to the hotel. Grosssssssssss.\n",
      "rating is 2 star rating\n",
      "i is 9\n",
      "review is Buffalo Joes is so good, I wish they opened until midnight. The chicken is so good, and whenever I crave a nice hearty burger, they deliver so well! Also, it's cash only, but the price is so good for the quality and amount of food. Everything here is so good and the people inside are super nice. They also prepare the food really quickly! Definitely recommend :)\n",
      "rating is 4 star rating\n"
     ]
    }
   ],
   "source": [
    "for i in range(10):\n",
    "    print(f\"i is {i}\")\n",
    "    print(f\"review is {reviews[i]}\")\n",
    "    print(f\"rating is {ratings[i]}\")"
   ]
  }
 ],
 "metadata": {
  "kernelspec": {
   "display_name": "Python 3",
   "language": "python",
   "name": "python3"
  },
  "language_info": {
   "codemirror_mode": {
    "name": "ipython",
    "version": 3
   },
   "file_extension": ".py",
   "mimetype": "text/x-python",
   "name": "python",
   "nbconvert_exporter": "python",
   "pygments_lexer": "ipython3",
   "version": "3.11.8"
  }
 },
 "nbformat": 4,
 "nbformat_minor": 2
}

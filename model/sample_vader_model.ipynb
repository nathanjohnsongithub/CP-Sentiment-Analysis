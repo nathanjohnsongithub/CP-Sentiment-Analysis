{
 "cells": [
  {
   "cell_type": "markdown",
   "metadata": {},
   "source": [
    "### Sentiment analysis on sample data (Buffalo joes, Chicago) using NLTK (Natural language Toolkit) and VADER ( Valence Aware Dictionary for Sentiment Reasoning) model."
   ]
  },
  {
   "cell_type": "markdown",
   "metadata": {},
   "source": [
    "Add in the necessary imports"
   ]
  },
  {
   "cell_type": "code",
   "execution_count": 2,
   "metadata": {},
   "outputs": [],
   "source": [
    "import pandas as pd\n",
    "import numpy as np\n",
    "from nltk.sentiment import SentimentIntensityAnalyzer\n",
    "from tqdm.notebook import tqdm"
   ]
  },
  {
   "cell_type": "markdown",
   "metadata": {},
   "source": [
    "Read in the reviews from the CSV file using pandas. Reviews scrapped from yelp using requests and BeautifulSoup"
   ]
  },
  {
   "cell_type": "code",
   "execution_count": 4,
   "metadata": {},
   "outputs": [
    {
     "name": "stdout",
     "output_type": "stream",
     "text": [
      "                                                review\n",
      "0    My favorite wings around.  I found this place ...\n",
      "1    I thought it was pretty good. It's been awhile...\n",
      "2    I used to love Buffjoes in my teens and 20's, ...\n",
      "3    A friend of mind introduced me Buffalo Joes! I...\n",
      "4    I just came back to buff joes after a several ...\n",
      "..                                                 ...\n",
      "315  For starters, I admit to being a wing snob. I ...\n",
      "316  I've eaten here so many times, but only now ge...\n",
      "317  I'm sorry to say.....after 30 plus years of go...\n",
      "318  I visited here late Thursday night. I was happ...\n",
      "319  Horrible customer service. I ordered the food ...\n",
      "\n",
      "[320 rows x 1 columns]\n"
     ]
    }
   ],
   "source": [
    "df = pd.read_csv('../data/buffalo_joes_reviews.csv')\n",
    "print(df)"
   ]
  },
  {
   "cell_type": "markdown",
   "metadata": {},
   "source": [
    "Initialize the Sentiment object using NLTK's VADER model"
   ]
  },
  {
   "cell_type": "code",
   "execution_count": 5,
   "metadata": {},
   "outputs": [
    {
     "name": "stdout",
     "output_type": "stream",
     "text": [
      "<nltk.sentiment.vader.SentimentIntensityAnalyzer object at 0x000002E93608F590>\n"
     ]
    }
   ],
   "source": [
    "sia = SentimentIntensityAnalyzer()\n",
    "print(sia)"
   ]
  },
  {
   "cell_type": "markdown",
   "metadata": {},
   "source": [
    "Sample test using only one Review from the DataFrame. the SentimentIntensityAnalyzer polarity score uses a Bag of Words approuch without use of Context. I.E. everywood is treated seperatly. The output includes 'neg', 'neu', 'pos', 'compound'. the 'neg', 'neu', 'pos' stand for negative, neutral, and positive respectfully. Those show the percentage of the review it thinks is each. In this example, It thinks that its 5.3% negative, 64.1% neutral, and 30.6% positive, summing to 100%. the compound ranges from -1-1 showing the overall score of the review. This review was giving a .8775 meaning the sentiment was quite positive overall.  "
   ]
  },
  {
   "cell_type": "code",
   "execution_count": 9,
   "metadata": {},
   "outputs": [
    {
     "name": "stdout",
     "output_type": "stream",
     "text": [
      "Stopped here to grab a bit to eat on our way to Glacier National Park and were very impressed with the delicious food, western decor and fantastic service!\n",
      "{'neg': 0.053, 'neu': 0.641, 'pos': 0.306, 'compound': 0.8775}\n"
     ]
    }
   ],
   "source": [
    "example = df['review'][23]\n",
    "print(example)\n",
    "print(sia.polarity_scores(example))"
   ]
  },
  {
   "cell_type": "markdown",
   "metadata": {},
   "source": [
    "### Looping through all of the reviews with the help of TQDM"
   ]
  }
 ],
 "metadata": {
  "kernelspec": {
   "display_name": "Python 3",
   "language": "python",
   "name": "python3"
  },
  "language_info": {
   "codemirror_mode": {
    "name": "ipython",
    "version": 3
   },
   "file_extension": ".py",
   "mimetype": "text/x-python",
   "name": "python",
   "nbconvert_exporter": "python",
   "pygments_lexer": "ipython3",
   "version": "3.11.8"
  }
 },
 "nbformat": 4,
 "nbformat_minor": 2
}

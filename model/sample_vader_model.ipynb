{
 "cells": [
  {
   "cell_type": "markdown",
   "metadata": {},
   "source": [
    "### Sentiment analysis on sample data (Buffalo joes, Chicago) using NLTK (Natural language Toolkit) and VADER ( Valence Aware Dictionary for Sentiment Reasoning) model."
   ]
  },
  {
   "cell_type": "markdown",
   "metadata": {},
   "source": [
    "Add in the necessary imports"
   ]
  },
  {
   "cell_type": "code",
   "execution_count": 13,
   "metadata": {},
   "outputs": [],
   "source": [
    "import pandas as pd\n",
    "import numpy as np\n",
    "from nltk.sentiment import SentimentIntensityAnalyzer\n",
    "from tqdm.notebook import tqdm"
   ]
  },
  {
   "cell_type": "markdown",
   "metadata": {},
   "source": [
    "Read in the reviews from the CSV file using pandas. Reviews scrapped from yelp using requests and BeautifulSoup"
   ]
  },
  {
   "cell_type": "code",
   "execution_count": 3,
   "metadata": {},
   "outputs": [
    {
     "name": "stdout",
     "output_type": "stream",
     "text": [
      "                                                review\n",
      "0    My favorite wings around.  I found this place ...\n",
      "1    I thought it was pretty good. It's been awhile...\n",
      "2    I used to love Buffjoes in my teens and 20's, ...\n",
      "3    A friend of mind introduced me Buffalo Joes! I...\n",
      "4    I just came back to buff joes after a several ...\n",
      "..                                                 ...\n",
      "315  For starters, I admit to being a wing snob. I ...\n",
      "316  I've eaten here so many times, but only now ge...\n",
      "317  I'm sorry to say.....after 30 plus years of go...\n",
      "318  I visited here late Thursday night. I was happ...\n",
      "319  Horrible customer service. I ordered the food ...\n",
      "\n",
      "[320 rows x 1 columns]\n"
     ]
    }
   ],
   "source": [
    "df = pd.read_csv('../data/buffalo_joes_reviews.csv')\n",
    "print(df)"
   ]
  },
  {
   "cell_type": "markdown",
   "metadata": {},
   "source": [
    "Initialize the Sentiment object using NLTK's VADER model"
   ]
  },
  {
   "cell_type": "code",
   "execution_count": 4,
   "metadata": {},
   "outputs": [
    {
     "name": "stdout",
     "output_type": "stream",
     "text": [
      "<nltk.sentiment.vader.SentimentIntensityAnalyzer object at 0x00000232B2592350>\n"
     ]
    }
   ],
   "source": [
    "sia = SentimentIntensityAnalyzer()\n",
    "print(sia)"
   ]
  },
  {
   "cell_type": "markdown",
   "metadata": {},
   "source": [
    "Sample test using only one Review from the DataFrame. the SentimentIntensityAnalyzer polarity score uses a Bag of Words approuch without use of Context. I.E. everywood is treated seperatly. The output includes 'neg', 'neu', 'pos', 'compound'. the 'neg', 'neu', 'pos' stand for negative, neutral, and positive respectfully. Those show the percentage of the review it thinks is each. In this example, It thinks that its 5.3% negative, 64.1% neutral, and 30.6% positive, summing to 100%. the compound ranges from -1-1 showing the overall score of the review. This review was giving a .8775 meaning the sentiment was quite positive overall.  "
   ]
  },
  {
   "cell_type": "code",
   "execution_count": 5,
   "metadata": {},
   "outputs": [
    {
     "name": "stdout",
     "output_type": "stream",
     "text": [
      "Stopped here to grab a bit to eat on our way to Glacier National Park and were very impressed with the delicious food, western decor and fantastic service!\n",
      "{'neg': 0.053, 'neu': 0.641, 'pos': 0.306, 'compound': 0.8775}\n"
     ]
    }
   ],
   "source": [
    "# Pulling a random review\n",
    "example = df['review'][23]\n",
    "print(example)\n",
    "print(sia.polarity_scores(example))"
   ]
  },
  {
   "cell_type": "markdown",
   "metadata": {},
   "source": [
    "### Looping through all of the reviews using TQDM to show a progress bar. Adapted from Rob Mulla Sentiment Analyis "
   ]
  },
  {
   "cell_type": "code",
   "execution_count": 14,
   "metadata": {},
   "outputs": [
    {
     "data": {
      "application/vnd.jupyter.widget-view+json": {
       "model_id": "218f2ba6df434477bf984b32c0835bed",
       "version_major": 2,
       "version_minor": 0
      },
      "text/plain": [
       "  0%|          | 0/320 [00:00<?, ?it/s]"
      ]
     },
     "metadata": {},
     "output_type": "display_data"
    }
   ],
   "source": [
    "res = {}\n",
    "for i, row in tqdm(df.iterrows(), total=len(df)):\n",
    "    text = row['review']\n",
    "    res[i] = sia.polarity_scores(text)"
   ]
  },
  {
   "cell_type": "markdown",
   "metadata": {},
   "source": [
    "Merge the dataframes"
   ]
  },
  {
   "cell_type": "code",
   "execution_count": 35,
   "metadata": {},
   "outputs": [],
   "source": [
    "vaders = pd.DataFrame(res).T\n",
    "vaders = pd.merge(df, vaders, left_index=True, right_index=True, how='left')"
   ]
  },
  {
   "cell_type": "markdown",
   "metadata": {},
   "source": [
    "Some more sample sentiments"
   ]
  },
  {
   "cell_type": "code",
   "execution_count": 49,
   "metadata": {},
   "outputs": [
    {
     "name": "stdout",
     "output_type": "stream",
     "text": [
      "This is a quiet, unassuming local joint. Came here with a friend and ordered a Buffalo chicken sandwich. I enjoyed the sandwich - chicken was nice and crispy with a tasty bun (5/5). However, I felt that the interior of the restaurant could use some TLC. Next time I will probably get my food to go.\n",
      "0.8519\n",
      "How do you even write a review for the greatest wing joint on gods green earth? If there ain't jalepenos on your wings and a large RC cola next to your tray, you did it wrong. I've been going here since I was a kid. My only complaint is that buff joes has very effectively ruined wings for me as nobody can ever compare.\n",
      "-0.0735\n",
      "Everyone seems to rave about their wings and honestly, I thought they were pretty decent. But their burger (or at least the one I had- their bacon cheddar burger) was far from being a decent eat. It was soggy, and the bun fell apart in the middle of my first bite. My burger patty slid out along with majority of the content and that is a huge no-no for me! If wings was the only thing they made, then I would definitely give this place a 3.5/5 rating, but everything else definitely brings this place down. They only accept cash, so please make sure you have cash with you. Nowhere on their website do they mention that, but they do when they are taking your order down. Another huge pet peeve- I haven't seen them wearing gloves when preparing my food. There was a lot of hand and celery contact that made me queasy.\n",
      "0.9846\n"
     ]
    }
   ],
   "source": [
    "print(vaders['review'][54])\n",
    "print(vaders['compound'][54])\n",
    "print(vaders['review'][136])\n",
    "print(vaders['compound'][136])\n",
    "print(vaders['review'][257])\n",
    "print(vaders['compound'][257])\n",
    "\n",
    "# 136 and 257\n"
   ]
  }
 ],
 "metadata": {
  "kernelspec": {
   "display_name": "Python 3",
   "language": "python",
   "name": "python3"
  },
  "language_info": {
   "codemirror_mode": {
    "name": "ipython",
    "version": 3
   },
   "file_extension": ".py",
   "mimetype": "text/x-python",
   "name": "python",
   "nbconvert_exporter": "python",
   "pygments_lexer": "ipython3",
   "version": "3.11.8"
  }
 },
 "nbformat": 4,
 "nbformat_minor": 2
}
